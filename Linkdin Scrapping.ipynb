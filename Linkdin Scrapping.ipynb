{
 "cells": [
  {
   "cell_type": "code",
   "execution_count": 22,
   "metadata": {},
   "outputs": [],
   "source": [
    "import requests\n",
    "from bs4 import BeautifulSoup\n",
    "from selenium.webdriver.common.keys import Keys\n",
    "import os,random,sys,time\n",
    "from selenium import webdriver\n",
    "import pandas as pd\n",
    "from time import time\n",
    "#setting path for chromedriver\n",
    "path=\"C:\\\\Users\\\\Gaurav Sharma\\\\Desktop\\\\chromedriver.exe\"\n",
    "#reading config.txt\n",
    "user=\"ymdt142@gmail.com\"\n",
    "password=\"GHmdt14...8\"\n",
    "#setting which browser to use\n",
    "#setting which browser to use\n",
    "import timeit\n",
    "import time"
   ]
  },
  {
   "cell_type": "code",
   "execution_count": 31,
   "metadata": {},
   "outputs": [
    {
     "name": "stdout",
     "output_type": "stream",
     "text": [
      "1095.2127807999998\n"
     ]
    }
   ],
   "source": [
    "start = timeit.default_timer()\n",
    "browser=webdriver.Chrome(path)\n",
    "url=\"https://www.linkedin.com/login?\"\n",
    "browser.get(url) #open the site in chrome\n",
    "elementID=browser.find_element_by_id(\"username\")\n",
    "elementID.send_keys(user) #login here\n",
    "elementID=browser.find_element_by_id(\"password\")\n",
    "elementID.send_keys(password)\n",
    "elementID.submit()\n",
    "profileID=\"https://www.linkedin.com/in/oleksandra-yelizarova/detail/recent-activity/shares/\"\n",
    "browser.get(profileID)\n",
    "flag=1\n",
    "while flag:\n",
    "    try:\n",
    "        new = browser.execute_script(\"return document.body.scrollHeight\")\n",
    "        browser.execute_script('window.scrollTo(0,document.body.scrollHeight)')\n",
    "        time.sleep(7)\n",
    "        last_height = browser.execute_script(\"return document.body.scrollHeight\")\n",
    "        content=browser.page_source\n",
    "        if(last_height==new):\n",
    "            flag=0\n",
    "    except:\n",
    "        flag=0\n",
    "        print(\"Error occured while scrolling. Please re-try again\")\n",
    "stop = timeit.default_timer()\n",
    "print(stop-start)"
   ]
  },
  {
   "cell_type": "code",
   "execution_count": 33,
   "metadata": {},
   "outputs": [],
   "source": [
    "soup=BeautifulSoup(content,'html.parser')\n",
    "container=soup.find_all('div',{'class':'occludable-update ember-view'})"
   ]
  },
  {
   "cell_type": "code",
   "execution_count": 34,
   "metadata": {},
   "outputs": [
    {
     "data": {
      "text/plain": [
       "622"
      ]
     },
     "execution_count": 34,
     "metadata": {},
     "output_type": "execute_result"
    }
   ],
   "source": [
    "len(container)"
   ]
  },
  {
   "cell_type": "code",
   "execution_count": 35,
   "metadata": {},
   "outputs": [],
   "source": [
    "def getPost(container):\n",
    "    post = []\n",
    "    for i in range(len(container)):\n",
    "        try:\n",
    "            p = container[i].find_all('span', {'class': 'break-words'})[0].span.span.text\n",
    "            post.append(p)\n",
    "        except:\n",
    "            try:\n",
    "                ip = container[i].find_all('span', {'class': 'break-words'})[0].span.text\n",
    "                post.append(ip)\n",
    "            except:\n",
    "                pass\n",
    "    return post\n",
    "#for tag\n",
    "def getTag(text):\n",
    "    tag = []\n",
    "    tags=' '\n",
    "    for t in text:\n",
    "        words=t.split()\n",
    "        for word in words:\n",
    "            if word.startswith('#'):\n",
    "                tags=tags+word+' '\n",
    "        tag.append(tags)\n",
    "        tags=''\n",
    "    return tag\n",
    "def getImage(container):\n",
    "    img = []\n",
    "    for i in range(len(container)):\n",
    "        try:\n",
    "            src = container[i].find_all('img', {\n",
    "                'class': \"ivm-view-attr__img--centered feed-shared-image__image feed-shared-image__image--constrained lazy-image ember-view\"})[\n",
    "                0]['src']\n",
    "            img.append(src)\n",
    "        except:\n",
    "            try:\n",
    "                src = container[i].find_all('img', {\n",
    "                    'class': \"ivm-view-attr__img--centered feed-shared-image__image lazy-image ember-view\"})[0]['src']\n",
    "                img.append(src)\n",
    "            except:\n",
    "                img.append('')\n",
    "    return img"
   ]
  },
  {
   "cell_type": "code",
   "execution_count": 59,
   "metadata": {},
   "outputs": [
    {
     "name": "stdout",
     "output_type": "stream",
     "text": [
      "571 fail\n"
     ]
    }
   ],
   "source": [
    "post=getPost(container)\n",
    "tag=getTag(post)\n",
    "img=getImage(container)\n",
    "#try"
   ]
  },
  {
   "cell_type": "code",
   "execution_count": 60,
   "metadata": {},
   "outputs": [
    {
     "data": {
      "text/plain": [
       "622"
      ]
     },
     "execution_count": 60,
     "metadata": {},
     "output_type": "execute_result"
    }
   ],
   "source": [
    "h=max([len(post),len(tag),len(img)])\n",
    "h"
   ]
  },
  {
   "cell_type": "code",
   "execution_count": 61,
   "metadata": {},
   "outputs": [
    {
     "name": "stdout",
     "output_type": "stream",
     "text": [
      "post\n",
      "tag\n"
     ]
    }
   ],
   "source": [
    "for i in range(h-len(post)):\n",
    "    print(\"post\")\n",
    "    post.append('')\n",
    "for i in range(h-len(tag)):\n",
    "    print(\"tag\")\n",
    "    tag.append(' ')\n",
    "for i in range(h-len(img)):\n",
    "    print(\"img\")\n",
    "    img.append(' ')"
   ]
  },
  {
   "cell_type": "code",
   "execution_count": 62,
   "metadata": {},
   "outputs": [
    {
     "data": {
      "text/plain": [
       "[622, 622, 622]"
      ]
     },
     "execution_count": 62,
     "metadata": {},
     "output_type": "execute_result"
    }
   ],
   "source": [
    "[len(post),len(tag),len(img)]"
   ]
  },
  {
   "cell_type": "code",
   "execution_count": 63,
   "metadata": {},
   "outputs": [],
   "source": [
    "Profile_Content={}\n",
    "Profile_Content={'Post':post,'Image':img,'Tag':tag}\n",
    "dfff=pd.DataFrame(Profile_Content)"
   ]
  },
  {
   "cell_type": "code",
   "execution_count": 64,
   "metadata": {},
   "outputs": [
    {
     "data": {
      "text/html": [
       "<div>\n",
       "<style scoped>\n",
       "    .dataframe tbody tr th:only-of-type {\n",
       "        vertical-align: middle;\n",
       "    }\n",
       "\n",
       "    .dataframe tbody tr th {\n",
       "        vertical-align: top;\n",
       "    }\n",
       "\n",
       "    .dataframe thead th {\n",
       "        text-align: right;\n",
       "    }\n",
       "</style>\n",
       "<table border=\"1\" class=\"dataframe\">\n",
       "  <thead>\n",
       "    <tr style=\"text-align: right;\">\n",
       "      <th></th>\n",
       "      <th>Post</th>\n",
       "      <th>Image</th>\n",
       "      <th>Tag</th>\n",
       "    </tr>\n",
       "  </thead>\n",
       "  <tbody>\n",
       "    <tr>\n",
       "      <th>0</th>\n",
       "      <td>Struggle to get traffic? Let me lead you in th...</td>\n",
       "      <td></td>\n",
       "      <td>#digitalmarketing #traffic #marketing #traffi...</td>\n",
       "    </tr>\n",
       "    <tr>\n",
       "      <th>1</th>\n",
       "      <td>Wanna get traffic? Share your website in the c...</td>\n",
       "      <td></td>\n",
       "      <td>#website #websitetraffic #seo #digitalmarketing</td>\n",
       "    </tr>\n",
       "    <tr>\n",
       "      <th>2</th>\n",
       "      <td>Marketing research is crucial.I can explain wh...</td>\n",
       "      <td>https://media-exp1.licdn.com/dms/image/C4D22AQ...</td>\n",
       "      <td></td>\n",
       "    </tr>\n",
       "    <tr>\n",
       "      <th>3</th>\n",
       "      <td>Struggle to get traffic? Let me lead you in th...</td>\n",
       "      <td>https://media-exp1.licdn.com/dms/image/C4D22AQ...</td>\n",
       "      <td>#digitalmarketing #traffic #marketing #traffic...</td>\n",
       "    </tr>\n",
       "    <tr>\n",
       "      <th>4</th>\n",
       "      <td>Let`s connect and grow on Friday!1. Like this ...</td>\n",
       "      <td>https://media-exp1.licdn.com/dms/image/C4D22AQ...</td>\n",
       "      <td>#connection #connect #letsgrow</td>\n",
       "    </tr>\n",
       "  </tbody>\n",
       "</table>\n",
       "</div>"
      ],
      "text/plain": [
       "                                                Post  \\\n",
       "0  Struggle to get traffic? Let me lead you in th...   \n",
       "1  Wanna get traffic? Share your website in the c...   \n",
       "2  Marketing research is crucial.I can explain wh...   \n",
       "3  Struggle to get traffic? Let me lead you in th...   \n",
       "4  Let`s connect and grow on Friday!1. Like this ...   \n",
       "\n",
       "                                               Image  \\\n",
       "0                                                      \n",
       "1                                                      \n",
       "2  https://media-exp1.licdn.com/dms/image/C4D22AQ...   \n",
       "3  https://media-exp1.licdn.com/dms/image/C4D22AQ...   \n",
       "4  https://media-exp1.licdn.com/dms/image/C4D22AQ...   \n",
       "\n",
       "                                                 Tag  \n",
       "0   #digitalmarketing #traffic #marketing #traffi...  \n",
       "1   #website #websitetraffic #seo #digitalmarketing   \n",
       "2                                                     \n",
       "3  #digitalmarketing #traffic #marketing #traffic...  \n",
       "4                    #connection #connect #letsgrow   "
      ]
     },
     "execution_count": 64,
     "metadata": {},
     "output_type": "execute_result"
    }
   ],
   "source": [
    "dfff.head()"
   ]
  },
  {
   "cell_type": "code",
   "execution_count": 65,
   "metadata": {},
   "outputs": [
    {
     "data": {
      "text/plain": [
       "(622, 3)"
      ]
     },
     "execution_count": 65,
     "metadata": {},
     "output_type": "execute_result"
    }
   ],
   "source": [
    "dfff.shape"
   ]
  },
  {
   "cell_type": "code",
   "execution_count": 66,
   "metadata": {},
   "outputs": [],
   "source": [
    "dfff.to_csv(\"LinkedinUpwork.csv\",index=False)"
   ]
  },
  {
   "cell_type": "code",
   "execution_count": 46,
   "metadata": {},
   "outputs": [
    {
     "name": "stdout",
     "output_type": "stream",
     "text": [
      "0\n"
     ]
    }
   ],
   "source": []
  },
  {
   "cell_type": "code",
   "execution_count": 1,
   "metadata": {},
   "outputs": [
    {
     "data": {
      "text/plain": [
       "'https:www.visitmelbourne.cominformationenews-subscription'"
      ]
     },
     "execution_count": 1,
     "metadata": {},
     "output_type": "execute_result"
    }
   ],
   "source": [
    "a=\"https://www.visitmelbourne.com/information/enews-subscription////////////\"\n",
    "a.replace(\"/\",\"\")"
   ]
  },
  {
   "cell_type": "code",
   "execution_count": null,
   "metadata": {},
   "outputs": [],
   "source": [
    "https://www.visitmelbourne.com/information/enews-subscription//information/enews-subscription/things-to-do/things-to-do/things-to-do/things-to-do/things-to-do/things-to-do/things-to-do/things-to-do/things-to-do/things-to-do/things-to-do/things-to-do/things-to-do/things-to-do/things-to-do/regions/melbourne\n",
    "https://www.visitmelbourne.com/information/enews-subscription//information/enews-subscription/things-to-do/things-to-do/things-to-do/things-to-do/things-to-do/things-to-do/things-to-do/things-to-do/things-to-do/things-to-do/things-to-do/things-to-do/things-to-do/things-to-do/things-to-do/regions/high-country"
   ]
  }
 ],
 "metadata": {
  "kernelspec": {
   "display_name": "Python 3",
   "language": "python",
   "name": "python3"
  },
  "language_info": {
   "codemirror_mode": {
    "name": "ipython",
    "version": 3
   },
   "file_extension": ".py",
   "mimetype": "text/x-python",
   "name": "python",
   "nbconvert_exporter": "python",
   "pygments_lexer": "ipython3",
   "version": "3.8.3"
  }
 },
 "nbformat": 4,
 "nbformat_minor": 4
}
